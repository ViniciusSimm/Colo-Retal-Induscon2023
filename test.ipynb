{
 "cells": [
  {
   "cell_type": "code",
   "execution_count": 1,
   "metadata": {},
   "outputs": [
    {
     "name": "stderr",
     "output_type": "stream",
     "text": [
      "c:\\Users\\vinao\\anaconda3\\envs\\Tensor\\lib\\site-packages\\numpy\\_distributor_init.py:30: UserWarning: loaded more than 1 DLL from .libs:\n",
      "c:\\Users\\vinao\\anaconda3\\envs\\Tensor\\lib\\site-packages\\numpy\\.libs\\libopenblas.PYQHXLVVQ7VESDPUVUADXEVJOBGHJPAY.gfortran-win_amd64.dll\n",
      "c:\\Users\\vinao\\anaconda3\\envs\\Tensor\\lib\\site-packages\\numpy\\.libs\\libopenblas64__v0.3.21-gcc_10_3_0.dll\n",
      "  warnings.warn(\"loaded more than 1 DLL from .libs:\"\n"
     ]
    }
   ],
   "source": [
    "import os\n",
    "import cv2\n",
    "import pandas as pd\n",
    "\n",
    "def change_img(img,x,y):\n",
    "    img = cv2.resize(img,(y,x))\n",
    "    return img\n",
    "\n",
    "\n",
    "def get_img(main_path,name,x,y):\n",
    "    path_img = os.path.join(main_path,str('images'+'/'+name))\n",
    "    path_mask = os.path.join(main_path,str('masks'+'/'+name))\n",
    "    img = cv2.imread(path_img)\n",
    "    mask = cv2.imread(path_mask)\n",
    "    cv2.imshow('img',img)\n",
    "    cv2.imshow('mask',mask)\n",
    "\n",
    "    img_newsize = change_img(img,x,y)\n",
    "    mask_newsize = change_img(mask,x,y)\n",
    "\n",
    "    cv2.imshow('img_newsize',img_newsize)\n",
    "    cv2.imshow('mask_newsize',mask_newsize)\n",
    "\n",
    "    cv2.waitKey(0)\n",
    "    cv2.destroyAllWindows()\n"
   ]
  },
  {
   "cell_type": "code",
   "execution_count": 22,
   "metadata": {},
   "outputs": [],
   "source": [
    "main_path = './datasets/sessile-main-Kvasir-SEG/'\n",
    "name = 'cju1c0qb4tzi308355wtsnp0y.jpg'\n",
    "\n",
    "get_img(main_path,name,288, 384)"
   ]
  },
  {
   "cell_type": "code",
   "execution_count": 2,
   "metadata": {},
   "outputs": [],
   "source": [
    "main_path = './datasets/CVC-ClinicDB/'\n",
    "name = '1.png'\n",
    "\n",
    "get_img(main_path,name,531, 622)"
   ]
  },
  {
   "cell_type": "code",
   "execution_count": 10,
   "metadata": {},
   "outputs": [],
   "source": [
    "import tifffile\n",
    "\n",
    "# Abre o arquivo TIF\n",
    "imagem_tif = tifffile.imread(\"./datasets/CVC-ClinicDB/masks/1.tif\")\n",
    "\n",
    "# Salva o arquivo em PNG\n",
    "tifffile.imwrite(\"./datasets/CVC-ClinicDB/masks/1.png\", imagem_tif)"
   ]
  },
  {
   "cell_type": "code",
   "execution_count": 2,
   "metadata": {},
   "outputs": [],
   "source": [
    "import os\n",
    "# os.remove('./datasets/CVC-ClinicDB/images/1.png')"
   ]
  },
  {
   "cell_type": "code",
   "execution_count": 4,
   "metadata": {},
   "outputs": [],
   "source": [
    "path = './datasets/CVC-ClinicDB/masks/'\n",
    "lista = os.listdir(path)\n",
    "for item in lista:\n",
    "    path_item = str(path + '/' + item)\n",
    "    final = path_item.split('.')[-1]\n",
    "    if final == 'png':\n",
    "        os.remove(path_item)"
   ]
  },
  {
   "cell_type": "code",
   "execution_count": 2,
   "metadata": {},
   "outputs": [],
   "source": [
    "import cv2\n",
    "img = cv2.imread('./datasets/CVC-ClinicDB/images/2.png')\n",
    "cv2.imshow('img',img)\n",
    "cv2.waitKey(0)\n",
    "cv2.destroyAllWindows()"
   ]
  },
  {
   "cell_type": "code",
   "execution_count": null,
   "metadata": {},
   "outputs": [],
   "source": []
  }
 ],
 "metadata": {
  "kernelspec": {
   "display_name": "Tensor",
   "language": "python",
   "name": "python3"
  },
  "language_info": {
   "codemirror_mode": {
    "name": "ipython",
    "version": 3
   },
   "file_extension": ".py",
   "mimetype": "text/x-python",
   "name": "python",
   "nbconvert_exporter": "python",
   "pygments_lexer": "ipython3",
   "version": "3.8.13"
  },
  "orig_nbformat": 4
 },
 "nbformat": 4,
 "nbformat_minor": 2
}
